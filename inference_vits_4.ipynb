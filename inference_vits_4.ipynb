{
 "cells": [
  {
   "cell_type": "code",
   "execution_count": 6,
   "metadata": {
    "ExecuteTime": {
     "end_time": "2022-11-10T03:28:53.112738Z",
     "start_time": "2022-11-10T03:28:53.094904Z"
    },
    "colab": {
     "base_uri": "https://localhost:8080/"
    },
    "id": "MwKzwdsQDxxb",
    "outputId": "c1b2948e-2dd8-48ea-f67f-a671d0745098"
   },
   "outputs": [],
   "source": [
    "import torch\n",
    "from torch import nn\n",
    "from torch.nn import functional as F\n",
    "from torch.utils.data import DataLoader\n",
    "\n",
    "import os\n",
    "import json\n",
    "import math\n",
    "import numpy\n",
    "import re\n",
    "from tqdm import tqdm\n",
    "import random\n",
    "from scipy.io.wavfile import write\n",
    "\n",
    "import commons\n",
    "import utils\n",
    "from data_utils import TextAudioLoader, TextAudioCollate, TextAudioSpeakerLoader, TextAudioSpeakerCollate\n",
    "from models import SynthesizerTrn\n",
    "from text.symbols import symbols\n",
    "from text import text_to_sequence\n",
    "\n",
    "def get_text(text, hps):\n",
    "    text_norm = text_to_sequence(text, hps.data.text_cleaners)\n",
    "    if hps.data.add_blank:\n",
    "        text_norm = commons.intersperse(text_norm, 0)\n",
    "    text_norm = torch.LongTensor(text_norm)\n",
    "    return text_norm"
   ]
  },
  {
   "cell_type": "code",
   "execution_count": 7,
   "metadata": {
    "ExecuteTime": {
     "end_time": "2022-11-10T03:28:59.134417Z",
     "start_time": "2022-11-10T03:28:55.979913Z"
    },
    "id": "QCg6TbQbDxxv"
   },
   "outputs": [],
   "source": [
    "hps_mt = utils.get_hparams_from_file(\"./configs/genshin.json\")\n",
    "\n",
    "npcList = ['派蒙', '凯亚', '安柏', '丽莎', '琴', '香菱', '枫原万叶',\n",
    "           '迪卢克', '温迪', '可莉', '早柚', '托马', '芭芭拉', '优菈',\n",
    "           '云堇', '钟离', '魈', '凝光', '雷电将军', '北斗',\n",
    "           '甘雨', '七七', '刻晴', '神里绫华', '戴因斯雷布', '雷泽',\n",
    "           '神里绫人', '罗莎莉亚', '阿贝多', '八重神子', '宵宫',\n",
    "           '荒泷一斗', '九条裟罗', '夜兰', '珊瑚宫心海', '五郎',\n",
    "           '散兵', '女士', '达达利亚', '莫娜', '班尼特', '申鹤',\n",
    "           '行秋', '烟绯', '久岐忍', '辛焱', '砂糖', '胡桃', '重云',\n",
    "           '菲谢尔', '诺艾尔', '迪奥娜', '鹿野院平藏']\n",
    "\n",
    "girl_npcList = ['派蒙', '丽莎', '琴', '香菱', '可莉', '早柚',  '芭芭拉', '优菈', '云堇', '凝光', '雷电将军', '北斗',\n",
    "                '甘雨', '七七', '刻晴', '神里绫华', '罗莎莉亚', '八重神子', '宵宫', '九条裟罗', '夜兰', '珊瑚宫心海',\n",
    "                '女士', '莫娜', '申鹤','行秋', '烟绯', '久岐忍', '辛焱', '砂糖', '胡桃', '重云','菲谢尔', '诺艾尔', '迪奥娜']\n",
    "\n",
    "net_g_mt = SynthesizerTrn(\n",
    "    len(symbols),\n",
    "    hps_mt.data.filter_length // 2 + 1,\n",
    "    hps_mt.train.segment_size // hps_mt.data.hop_length,\n",
    "    n_speakers=hps_mt.data.n_speakers,\n",
    "    **hps_mt.model).cuda()\n",
    "_ = net_g_mt.eval()\n",
    "\n",
    "\n",
    "_ = utils.load_checkpoint(\"./G_809000.pth\", net_g_mt, None)"
   ]
  },
  {
   "cell_type": "code",
   "execution_count": 23,
   "metadata": {
    "ExecuteTime": {
     "end_time": "2022-11-10T04:04:17.462980Z",
     "start_time": "2022-11-10T04:04:03.965447Z"
    },
    "code_folding": [],
    "colab": {
     "base_uri": "https://localhost:8080/",
     "height": 185
    },
    "id": "IwqNpbRVDxxw",
    "outputId": "7902e44a-55e3-4383-d5b9-eced242ea507"
   },
   "outputs": [
    {
     "name": "stderr",
     "output_type": "stream",
     "text": [
      "100%|███████████████████████████████████████████| 38/38 [00:13<00:00,  2.83it/s]\n"
     ]
    }
   ],
   "source": [
    "#读取每一行\n",
    "lines=open(\"星临诸天.txt\",\"r\",encoding='utf8').readlines()\n",
    "#验证（for循环遍历，不能修改列表）\n",
    "# for line in tqdm(lines):\n",
    "#     get_text(line.replace(\"\\n\", \"\").replace('\\u3000',''),hps_mt)\n",
    "chapters=[]\n",
    "#分章\n",
    "i=-1\n",
    "for line in lines:\n",
    "    if re.search(\"^第[0-9]+.*$\",line):\n",
    "        chapters.append([])\n",
    "        i=i+1\n",
    "        if i==0:\n",
    "            chapters[0].append(line.replace(\"\\n\", \"\").replace('\\u3000','')) \n",
    "        else:\n",
    "            chapters[i].append(line.replace(\"\\n\", \"\").replace('\\u3000',''))         \n",
    "#     else:\n",
    "#         chapters[i].append(line.replace(\"\\n\", \"\").replace('\\u3000',''))\n",
    "\n",
    "for chapter in tqdm(chapters,ncols=80):\n",
    "    audio = numpy.array([])\n",
    "    speaker=girl_npcList[random.randrange(0,len(girl_npcList))]\n",
    "    for line in chapter:\n",
    "        sentence = get_text(line.replace(\"\\n\", \"\").replace('\\u3000',''), hps_mt)\n",
    "        with torch.no_grad():\n",
    "            inputs = sentence.cuda().unsqueeze(0)\n",
    "            inputs_length = torch.LongTensor([sentence.size(0)]).cuda()\n",
    "            sid = torch.LongTensor([npcList.index(speaker)]).cuda()\n",
    "            audio =numpy.concatenate((audio,net_g_mt.infer(inputs, inputs_length, sid=sid, noise_scale=.4, noise_scale_w=.8, length_scale=1.1)[0][0,0].data.cpu().float().numpy()))\n",
    "        outputfilename=speaker+\"_\"+chapter[0]+\".wav\"\n",
    "        write(outputfilename, hps_mt.data.sampling_rate, audio)\n",
    "\n"
   ]
  },
  {
   "cell_type": "code",
   "execution_count": null,
   "metadata": {
    "ExecuteTime": {
     "start_time": "2022-11-08T02:38:24.481Z"
    },
    "colab": {
     "background_save": true
    },
    "id": "jsnZixDuDxxx",
    "outputId": "1029bc9e-420c-4cbb-8550-46dab4d0e4b6"
   },
   "outputs": [],
   "source": [
    "#循环部分人物合成\n",
    "mynpcList=[\"派蒙\"]\n",
    "audio_mt = numpy.array([])\n",
    "for speaker in tqdm(mynpcList):\n",
    "    t_mt='I am happy'\n",
    "    stn_tst_mt = get_text(t_mt.replace(\"\\n\", \"\"), hps_mt)\n",
    "    with torch.no_grad():\n",
    "        x_tst_mt = stn_tst_mt.cuda().unsqueeze(0)\n",
    "        x_tst_mt_lengths = torch.LongTensor([stn_tst_mt.size(0)]).cuda()\n",
    "        sid_mt = torch.LongTensor([npcList.index(speaker)]).cuda()\n",
    "        audio_mt =numpy.concatenate((audio_mt,net_g_mt.infer(x_tst_mt, x_tst_mt_lengths, sid=sid_mt, noise_scale=.4, noise_scale_w=.8, length_scale=1.2)[0][0,0].data.cpu().float().numpy()))\n",
    "ipd.display(speaker,ipd.Audio(audio_mt, rate=hps_mt.data.sampling_rate, normalize=False))"
   ]
  }
 ],
 "metadata": {
  "accelerator": "GPU",
  "colab": {
   "collapsed_sections": [],
   "provenance": []
  },
  "kernelspec": {
   "display_name": "Python [conda env:pytorch]",
   "language": "python",
   "name": "conda-env-pytorch-py"
  },
  "language_info": {
   "codemirror_mode": {
    "name": "ipython",
    "version": 3
   },
   "file_extension": ".py",
   "mimetype": "text/x-python",
   "name": "python",
   "nbconvert_exporter": "python",
   "pygments_lexer": "ipython3",
   "version": "3.8.13"
  }
 },
 "nbformat": 4,
 "nbformat_minor": 1
}
